{
 "cells": [
  {
   "cell_type": "markdown",
   "metadata": {},
   "source": [
    "# Introduction\n",
    "\n",
    "The NSW Government recently released a web service called Fuelcheck that provides real time fuel prices across all of NSW. The NSW Government requires all fuel stations to update the sale price of petrol in FuelCheck in real time. As each update is received by the FuelCheck server, a new record is received. Stations which update their prices more frequently will have more values.\n",
    "\n",
    "Data is obtained in monthly sets from the NSW Govt at https://data.nsw.gov.au/data/dataset/fuel-check.\n",
    "\n",
    "An analysis is performed below on May 2017 Fuelcheck data to examine fuel prices in relation to the brand. It is found that Speedway is consistently the lowest priced petrol station for the fuel types E10, U91, P95 and P98. It is also found that Shell is consistently the highest priced petrol station for the same fuel types.\n",
    "\n",
    "# Scope\n",
    "\n",
    "The initial scope of this project is limited to two things:\n",
    "- how do fuel prices vary across fuel types, by brand; and\n",
    "- how do fuel price premiums vary by brand.\n",
    "\n",
    "We start by importing the data first and cleaning it up."
   ]
  },
  {
   "cell_type": "code",
   "execution_count": 11,
   "metadata": {},
   "outputs": [
    {
     "data": {
      "text/html": [
       "<div>\n",
       "<table border=\"1\" class=\"dataframe\">\n",
       "  <thead>\n",
       "    <tr style=\"text-align: right;\">\n",
       "      <th></th>\n",
       "      <th>ServiceStationName</th>\n",
       "      <th>Address</th>\n",
       "      <th>Suburb</th>\n",
       "      <th>Postcode</th>\n",
       "      <th>Brand</th>\n",
       "      <th>FuelCode</th>\n",
       "      <th>PriceUpdatedDate</th>\n",
       "      <th>Price</th>\n",
       "    </tr>\n",
       "  </thead>\n",
       "  <tbody>\n",
       "    <tr>\n",
       "      <th>0</th>\n",
       "      <td>7-Eleven Quakers Hill</td>\n",
       "      <td>83 Lalor Road &amp; Quakers Hill Parkway, Quakers ...</td>\n",
       "      <td>QUAKERS HILL</td>\n",
       "      <td>2763</td>\n",
       "      <td>7-Eleven</td>\n",
       "      <td>P98</td>\n",
       "      <td>2017-05-01 00:08:40</td>\n",
       "      <td>131.7</td>\n",
       "    </tr>\n",
       "    <tr>\n",
       "      <th>1</th>\n",
       "      <td>7-Eleven Quakers Hill</td>\n",
       "      <td>83 Lalor Road &amp; Quakers Hill Parkway, Quakers ...</td>\n",
       "      <td>QUAKERS HILL</td>\n",
       "      <td>2763</td>\n",
       "      <td>7-Eleven</td>\n",
       "      <td>U91</td>\n",
       "      <td>2017-05-01 00:08:40</td>\n",
       "      <td>115.7</td>\n",
       "    </tr>\n",
       "    <tr>\n",
       "      <th>2</th>\n",
       "      <td>7-Eleven Quakers Hill</td>\n",
       "      <td>83 Lalor Road &amp; Quakers Hill Parkway, Quakers ...</td>\n",
       "      <td>QUAKERS HILL</td>\n",
       "      <td>2763</td>\n",
       "      <td>7-Eleven</td>\n",
       "      <td>E10</td>\n",
       "      <td>2017-05-01 00:08:40</td>\n",
       "      <td>113.7</td>\n",
       "    </tr>\n",
       "    <tr>\n",
       "      <th>3</th>\n",
       "      <td>Independent Balgownie</td>\n",
       "      <td>99 Balgownie Road, Balgownie NSW 2519</td>\n",
       "      <td>BALGOWNIE</td>\n",
       "      <td>2519</td>\n",
       "      <td>Independent</td>\n",
       "      <td>P98</td>\n",
       "      <td>2017-05-01 00:51:40</td>\n",
       "      <td>145.9</td>\n",
       "    </tr>\n",
       "    <tr>\n",
       "      <th>4</th>\n",
       "      <td>Caltex Woolworths Newington</td>\n",
       "      <td>1 Avenue of the Americas, Newington NSW 2127</td>\n",
       "      <td>NEWINGTON</td>\n",
       "      <td>2127</td>\n",
       "      <td>Caltex Woolworths</td>\n",
       "      <td>P95</td>\n",
       "      <td>2017-05-01 06:48:48</td>\n",
       "      <td>136.4</td>\n",
       "    </tr>\n",
       "  </tbody>\n",
       "</table>\n",
       "</div>"
      ],
      "text/plain": [
       "            ServiceStationName  \\\n",
       "0        7-Eleven Quakers Hill   \n",
       "1        7-Eleven Quakers Hill   \n",
       "2        7-Eleven Quakers Hill   \n",
       "3        Independent Balgownie   \n",
       "4  Caltex Woolworths Newington   \n",
       "\n",
       "                                             Address        Suburb  Postcode  \\\n",
       "0  83 Lalor Road & Quakers Hill Parkway, Quakers ...  QUAKERS HILL      2763   \n",
       "1  83 Lalor Road & Quakers Hill Parkway, Quakers ...  QUAKERS HILL      2763   \n",
       "2  83 Lalor Road & Quakers Hill Parkway, Quakers ...  QUAKERS HILL      2763   \n",
       "3              99 Balgownie Road, Balgownie NSW 2519     BALGOWNIE      2519   \n",
       "4       1 Avenue of the Americas, Newington NSW 2127     NEWINGTON      2127   \n",
       "\n",
       "               Brand FuelCode    PriceUpdatedDate  Price  \n",
       "0           7-Eleven      P98 2017-05-01 00:08:40  131.7  \n",
       "1           7-Eleven      U91 2017-05-01 00:08:40  115.7  \n",
       "2           7-Eleven      E10 2017-05-01 00:08:40  113.7  \n",
       "3        Independent      P98 2017-05-01 00:51:40  145.9  \n",
       "4  Caltex Woolworths      P95 2017-05-01 06:48:48  136.4  "
      ]
     },
     "execution_count": 11,
     "metadata": {},
     "output_type": "execute_result"
    }
   ],
   "source": [
    "import pandas as pd\n",
    "import numpy as np\n",
    "import matplotlib.mlab as mlab\n",
    "import matplotlib.pyplot as plt\n",
    "import datetime\n",
    "import calendar\n",
    "\n",
    "fuelcheck = pd.read_csv('fuelcheck_052017.csv')\n",
    "\n",
    "# change data type to time and date\n",
    "fuelcheck['PriceUpdatedDate'] = pd.to_datetime(fuelcheck['PriceUpdatedDate'], dayfirst=True)\n",
    "\n",
    "# upper case all suburb names\n",
    "fuelcheck['Suburb'] = fuelcheck['Suburb'].str.upper()\n",
    "\n",
    "fuelcheck.head()"
   ]
  },
  {
   "cell_type": "markdown",
   "metadata": {},
   "source": [
    "Let's see which brands exist. Afterwards, we will group the various brands to simplify the analysis e.g. Coles Express and Shell both serve Shell petrol. Focus will be on major players, with the smaller brands lumped into the 'Independent' category."
   ]
  },
  {
   "cell_type": "code",
   "execution_count": 12,
   "metadata": {},
   "outputs": [
    {
     "name": "stdout",
     "output_type": "stream",
     "text": [
      "['7-Eleven' 'Independent' 'Caltex Woolworths' 'Metro Fuel' 'Budget' 'BP'\n",
      " 'Shell' 'Caltex' 'Coles Express' 'Westside' 'Speedway' 'United'\n",
      " 'Puma Energy' 'Lowes' 'Mobil' 'Matilda' 'Prime Petroleum' 'Liberty'\n",
      " 'Enhance' 'Costco']\n"
     ]
    }
   ],
   "source": [
    "brands = fuelcheck['Brand'].unique()\n",
    "print(brands)"
   ]
  },
  {
   "cell_type": "code",
   "execution_count": 13,
   "metadata": {
    "collapsed": true
   },
   "outputs": [],
   "source": [
    "def categorize(brand):\n",
    "    brand_categories = {\n",
    "        '7-Eleven':'7-Eleven',\n",
    "        'Independent':'Independent',\n",
    "        'Metro Fuel':'Metro Fuel',\n",
    "        'Budget':'Independent',\n",
    "        'BP':'BP',\n",
    "        'Shell':'Shell',\n",
    "        'Caltex':'Caltex',\n",
    "        'Coles Express':'Shell',\n",
    "        'Caltex Woolworths':'Caltex',\n",
    "        'Westside':'Independent',\n",
    "        'Speedway':'Speedway',\n",
    "        'United':'United',\n",
    "        'Lowes':'Independent',\n",
    "        'Mobil':'Independent',\n",
    "        'Matilda':'Independent',\n",
    "        'Puma Energy':'Independent',\n",
    "        'Prime Petroleum':'Independent',\n",
    "        'Liberty':'Independent',\n",
    "        'Enhance':'Independent',\n",
    "        'Costco':'Independent'\n",
    "    }\n",
    "    \n",
    "    return brand_categories[brand]\n",
    "\n",
    "fuelcheck['Brand'] = fuelcheck['Brand'].apply(categorize)\n",
    "brands = fuelcheck['Brand'].unique()"
   ]
  },
  {
   "cell_type": "markdown",
   "metadata": {},
   "source": [
    "Let's see which fuel types are tracked."
   ]
  },
  {
   "cell_type": "code",
   "execution_count": 14,
   "metadata": {},
   "outputs": [
    {
     "name": "stdout",
     "output_type": "stream",
     "text": [
      "['P98' 'U91' 'E10' 'P95' 'PDL' 'DL' 'LPG' 'E85']\n"
     ]
    }
   ],
   "source": [
    "print(fuelcheck['FuelCode'].unique())"
   ]
  },
  {
   "cell_type": "markdown",
   "metadata": {},
   "source": [
    "Let's get all service station addresses as well."
   ]
  },
  {
   "cell_type": "code",
   "execution_count": 15,
   "metadata": {
    "collapsed": true
   },
   "outputs": [],
   "source": [
    "addresses = fuelcheck['Address'].unique()"
   ]
  },
  {
   "cell_type": "markdown",
   "metadata": {},
   "source": [
    "Let's get the number of days a fuel price is set for. This will allow us to calculate a weighted average price for each fuel type."
   ]
  },
  {
   "cell_type": "code",
   "execution_count": 16,
   "metadata": {},
   "outputs": [
    {
     "name": "stderr",
     "output_type": "stream",
     "text": [
      "/Library/Frameworks/Python.framework/Versions/3.6/lib/python3.6/site-packages/pandas/core/indexing.py:141: SettingWithCopyWarning: \n",
      "A value is trying to be set on a copy of a slice from a DataFrame\n",
      "\n",
      "See the caveats in the documentation: http://pandas.pydata.org/pandas-docs/stable/indexing.html#indexing-view-versus-copy\n",
      "  self._setitem_with_indexer(indexer, value)\n"
     ]
    },
    {
     "data": {
      "text/html": [
       "<div>\n",
       "<table border=\"1\" class=\"dataframe\">\n",
       "  <thead>\n",
       "    <tr style=\"text-align: right;\">\n",
       "      <th></th>\n",
       "      <th>ServiceStationName</th>\n",
       "      <th>Address</th>\n",
       "      <th>Suburb</th>\n",
       "      <th>Postcode</th>\n",
       "      <th>Brand</th>\n",
       "      <th>FuelCode</th>\n",
       "      <th>PriceUpdatedDate</th>\n",
       "      <th>Price</th>\n",
       "      <th>NextRow</th>\n",
       "      <th>Delta</th>\n",
       "      <th>Weighting</th>\n",
       "      <th>WeightedPrice</th>\n",
       "    </tr>\n",
       "  </thead>\n",
       "  <tbody>\n",
       "    <tr>\n",
       "      <th>0</th>\n",
       "      <td>Caltex Woolworths Newington</td>\n",
       "      <td>1 Avenue of the Americas, Newington NSW 2127</td>\n",
       "      <td>NEWINGTON</td>\n",
       "      <td>2127</td>\n",
       "      <td>Caltex</td>\n",
       "      <td>E10</td>\n",
       "      <td>2017-05-01 06:48:48</td>\n",
       "      <td>122.4</td>\n",
       "      <td>2017-05-01 15:05:35</td>\n",
       "      <td>0 days 08:16:47</td>\n",
       "      <td>0.344988</td>\n",
       "      <td>42.226583</td>\n",
       "    </tr>\n",
       "    <tr>\n",
       "      <th>1</th>\n",
       "      <td>Caltex Woolworths Newington</td>\n",
       "      <td>1 Avenue of the Americas, Newington NSW 2127</td>\n",
       "      <td>NEWINGTON</td>\n",
       "      <td>2127</td>\n",
       "      <td>Caltex</td>\n",
       "      <td>E10</td>\n",
       "      <td>2017-05-01 15:05:35</td>\n",
       "      <td>121.9</td>\n",
       "      <td>2017-05-01 16:45:52</td>\n",
       "      <td>0 days 01:40:17</td>\n",
       "      <td>0.069641</td>\n",
       "      <td>8.489263</td>\n",
       "    </tr>\n",
       "    <tr>\n",
       "      <th>2</th>\n",
       "      <td>Caltex Woolworths Newington</td>\n",
       "      <td>1 Avenue of the Americas, Newington NSW 2127</td>\n",
       "      <td>NEWINGTON</td>\n",
       "      <td>2127</td>\n",
       "      <td>Caltex</td>\n",
       "      <td>E10</td>\n",
       "      <td>2017-05-01 16:45:52</td>\n",
       "      <td>137.9</td>\n",
       "      <td>2017-05-10 16:02:12</td>\n",
       "      <td>8 days 23:16:20</td>\n",
       "      <td>8.969676</td>\n",
       "      <td>1236.918310</td>\n",
       "    </tr>\n",
       "    <tr>\n",
       "      <th>3</th>\n",
       "      <td>Caltex Woolworths Newington</td>\n",
       "      <td>1 Avenue of the Americas, Newington NSW 2127</td>\n",
       "      <td>NEWINGTON</td>\n",
       "      <td>2127</td>\n",
       "      <td>Caltex</td>\n",
       "      <td>E10</td>\n",
       "      <td>2017-05-10 16:02:12</td>\n",
       "      <td>135.9</td>\n",
       "      <td>2017-05-11 10:45:56</td>\n",
       "      <td>0 days 18:43:44</td>\n",
       "      <td>0.780370</td>\n",
       "      <td>106.052333</td>\n",
       "    </tr>\n",
       "    <tr>\n",
       "      <th>4</th>\n",
       "      <td>Caltex Woolworths Newington</td>\n",
       "      <td>1 Avenue of the Americas, Newington NSW 2127</td>\n",
       "      <td>NEWINGTON</td>\n",
       "      <td>2127</td>\n",
       "      <td>Caltex</td>\n",
       "      <td>E10</td>\n",
       "      <td>2017-05-11 10:45:56</td>\n",
       "      <td>133.9</td>\n",
       "      <td>2017-05-15 07:33:41</td>\n",
       "      <td>3 days 20:47:45</td>\n",
       "      <td>3.866493</td>\n",
       "      <td>517.723420</td>\n",
       "    </tr>\n",
       "  </tbody>\n",
       "</table>\n",
       "</div>"
      ],
      "text/plain": [
       "            ServiceStationName                                       Address  \\\n",
       "0  Caltex Woolworths Newington  1 Avenue of the Americas, Newington NSW 2127   \n",
       "1  Caltex Woolworths Newington  1 Avenue of the Americas, Newington NSW 2127   \n",
       "2  Caltex Woolworths Newington  1 Avenue of the Americas, Newington NSW 2127   \n",
       "3  Caltex Woolworths Newington  1 Avenue of the Americas, Newington NSW 2127   \n",
       "4  Caltex Woolworths Newington  1 Avenue of the Americas, Newington NSW 2127   \n",
       "\n",
       "      Suburb  Postcode   Brand FuelCode    PriceUpdatedDate  Price  \\\n",
       "0  NEWINGTON      2127  Caltex      E10 2017-05-01 06:48:48  122.4   \n",
       "1  NEWINGTON      2127  Caltex      E10 2017-05-01 15:05:35  121.9   \n",
       "2  NEWINGTON      2127  Caltex      E10 2017-05-01 16:45:52  137.9   \n",
       "3  NEWINGTON      2127  Caltex      E10 2017-05-10 16:02:12  135.9   \n",
       "4  NEWINGTON      2127  Caltex      E10 2017-05-11 10:45:56  133.9   \n",
       "\n",
       "              NextRow           Delta  Weighting  WeightedPrice  \n",
       "0 2017-05-01 15:05:35 0 days 08:16:47   0.344988      42.226583  \n",
       "1 2017-05-01 16:45:52 0 days 01:40:17   0.069641       8.489263  \n",
       "2 2017-05-10 16:02:12 8 days 23:16:20   8.969676    1236.918310  \n",
       "3 2017-05-11 10:45:56 0 days 18:43:44   0.780370     106.052333  \n",
       "4 2017-05-15 07:33:41 3 days 20:47:45   3.866493     517.723420  "
      ]
     },
     "execution_count": 16,
     "metadata": {},
     "output_type": "execute_result"
    }
   ],
   "source": [
    "def get_last_day_of_month():\n",
    "    final_date = fuelcheck['PriceUpdatedDate'].max()\n",
    "    year = final_date.year\n",
    "    month = final_date.month\n",
    "    day = calendar.monthrange(year, month)[1]\n",
    "    \n",
    "    return datetime.datetime(year, month, day, 23, 59, 59)\n",
    "\n",
    "fuelcheck = fuelcheck.sort_values(['Address', 'FuelCode','PriceUpdatedDate'], ascending=True)\n",
    "fuelcheck = fuelcheck.reset_index(drop=True)\n",
    "\n",
    "end_of_month = get_last_day_of_month()\n",
    "\n",
    "fuelcheck['NextRow'] = fuelcheck['PriceUpdatedDate'].shift(-1)\n",
    "fuelcheck['NextRow'].loc[len(fuelcheck.index)-1] = end_of_month\n",
    "fuelcheck['Delta'] = fuelcheck['NextRow'] - fuelcheck['PriceUpdatedDate']\n",
    "negative = fuelcheck['Delta'] < datetime.timedelta(0)\n",
    "\n",
    "# for values which are incorrectly calculated as negative, replace by taking the difference between the\n",
    "# PriceUpdatedDate and the end of the month\n",
    "fuelcheck['Delta'].loc[negative] = fuelcheck['PriceUpdatedDate'].loc[negative].apply(lambda x: end_of_month - x)\n",
    "fuelcheck['Weighting'] = fuelcheck['Delta'].apply(lambda x: x.days + x.seconds/(60*60*24))\n",
    "\n",
    "# created a weighted fuel price to account for length of time a price stays at\n",
    "fuelcheck['WeightedPrice'] = fuelcheck['Price'] * fuelcheck['Weighting']\n",
    "fuelcheck.head()"
   ]
  },
  {
   "cell_type": "markdown",
   "metadata": {},
   "source": [
    "Let's analyse the following four grades of petrol: U91, E10, P95 and P98. These are the most common and relevant fuel type to most consumers, although diesel cars are becoming increasingly common in Australia."
   ]
  },
  {
   "cell_type": "code",
   "execution_count": 17,
   "metadata": {
    "scrolled": false
   },
   "outputs": [
    {
     "name": "stdout",
     "output_type": "stream",
     "text": [
      "Mean fuel price variation for E10\n"
     ]
    },
    {
     "data": {
      "image/png": "[encoded data removed]",
      "text/plain": [
       "<matplotlib.figure.Figure at 0x10a4ef588>"
      ]
     },
     "metadata": {},
     "output_type": "display_data"
    },
    {
     "name": "stdout",
     "output_type": "stream",
     "text": [
      "Mean fuel price variation for U91\n"
     ]
    },
    {
     "data": {
      "image/png": "[encoded data removed]",
      "text/plain": [
       "<matplotlib.figure.Figure at 0x10abf2b38>"
      ]
     },
     "metadata": {},
     "output_type": "display_data"
    },
    {
     "name": "stdout",
     "output_type": "stream",
     "text": [
      "Mean fuel price variation for P95\n"
     ]
    },
    {
     "data": {
      "image/png": "[encoded data removed]",
      "text/plain": [
       "<matplotlib.figure.Figure at 0x10a8dd6d8>"
      ]
     },
     "metadata": {},
     "output_type": "display_data"
    },
    {
     "name": "stdout",
     "output_type": "stream",
     "text": [
      "Mean fuel price variation for P98\n"
     ]
    },
    {
     "data": {
      "image/png": "[encoded data removed]",
      "text/plain": [
       "<matplotlib.figure.Figure at 0x10ba6fac8>"
      ]
     },
     "metadata": {},
     "output_type": "display_data"
    }
   ],
   "source": [
    "fuel_type = ['E10', 'U91', 'P95', 'P98']\n",
    "fuel_stats = {}\n",
    "\n",
    "def weighted_mean(weighted_price, days):\n",
    "    if days.sum() == 0:\n",
    "        return weighted_price.sum()/30\n",
    "    else:\n",
    "        return weighted_price.sum()/days.sum()\n",
    "\n",
    "# collect stats for each fuel type at each service station, then store into dictionary 'fuel_stats'\n",
    "for fuel in fuel_type:\n",
    "    fuel_subset = fuelcheck[fuelcheck['FuelCode'] == fuel]\n",
    "    fuel_subset = fuel_subset.sort_values(['Address', 'PriceUpdatedDate'], ascending=True)\n",
    "    fuel_subset = fuel_subset.reset_index(drop=True)\n",
    "\n",
    "    fuel_stats_list = []    \n",
    "\n",
    "    # get stats for each service station and add them to a list. Once the data for each service station is collected,\n",
    "    # store it in a dataframe\n",
    "    for address in addresses:\n",
    "        fuel_station = fuel_subset[fuel_subset['Address'] == address]\n",
    "        count = int(len(fuel_station['Price'].index))\n",
    "        if count > 1:\n",
    "            mean = weighted_mean(fuel_station['WeightedPrice'], fuel_station['Weighting'])\n",
    "            std_dev = fuel_station['Price'].std()\n",
    "            brand = fuel_station['Brand'].iloc[0]\n",
    "            fuel_stats_list.append(dict(zip(['Brand', 'Address', 'Mean','Std Dev','Count'], [brand, address, mean, std_dev, count])))\n",
    "\n",
    "    fuel_stats[fuel] = pd.DataFrame(fuel_stats_list)\n",
    "    fuel_stats[fuel] = fuel_stats[fuel].sort_values('Mean', ascending=True)\n",
    "    fuel_stats[fuel] = fuel_stats[fuel].set_index('Address')\n",
    "\n",
    "# break down data into different brands and then plot mean fuel price boxplots\n",
    "for fuel in fuel_type:\n",
    "    petrol_prices = {}\n",
    "    sort_dict = {}\n",
    "    for brand in brands:\n",
    "        df = fuel_stats[fuel]\n",
    "        brand_subset = df[df['Brand'] == brand]\n",
    "        sort_dict[brand] = brand_subset['Mean'].median()\n",
    "        petrol_prices[brand] = brand_subset['Mean'].tolist()\n",
    "\n",
    "    plot_values = [petrol_prices[k] for k in sorted(sort_dict, key=sort_dict.get)]\n",
    "    sorted_brands = [k for k in sorted(sort_dict, key=sort_dict.get)]\n",
    "    \n",
    "    plt.boxplot(plot_values)\n",
    "    plt.xticks(range(1,len(sorted_brands)+1), sorted_brands, rotation=90)\n",
    "    print('Mean fuel price variation for ' + fuel)\n",
    "    plt.show()"
   ]
  },
  {
   "cell_type": "markdown",
   "metadata": {
    "collapsed": true
   },
   "source": [
    "# Analysis\n",
    "\n",
    "The weighted mean fuel prices have been plotted in a series of box plots for each fuel grade, and then ordered by median. A quick overview of the four petrol grades indicates that Shell consistently has the highest median weighted mean price while Speedway has the lowest median weighted price.\n",
    "\n",
    "Furthermore, Speedway also tends to have the narrowest range in weighted mean prices across all fuel types. This means one can expect to pay a similar price for any type of fuel if they drop into any Speedway petrol station. The widest range in prices appears to be United for E10 and U91, Caltex for P95 and Metro for P98. The Independent category is disregarded for now as it is a mix of several fuel brands, generally small players.\n",
    "\n",
    "There appears to be little variation in the median price at the lower end of the fuel grades (E10 and U91) between the 5 most expensive brands. The weighted mean price range also significantly overlaps each other. This contrasts against P95 and P98 fuel where there is a visible difference not only between the median price of fuel, but also the range of weighted mean prices. This indicates that the various brands compete on lower grades of fuel, and less so with premium grades of fuel. This makes sense as it is often the E10 fuel price that is most prominently displayed on petrol station advertising boards, with higher fuel grades less prominent down the bottom of the sign.\n",
    "\n",
    "As the premium grades of fuel tend to differ more significantly than the lower grades of fuel, the \"mark up\" or delta for each brand relative to E10 must also vary. We'll find out by how much below. Prices are being compared to E10 as it is fuel grade that the brands compete on, and advertise most aggressively."
   ]
  },
  {
   "cell_type": "code",
   "execution_count": 33,
   "metadata": {},
   "outputs": [
    {
     "data": {
      "text/html": [
       "<div>\n",
       "<table border=\"1\" class=\"dataframe\">\n",
       "  <thead>\n",
       "    <tr style=\"text-align: right;\">\n",
       "      <th></th>\n",
       "      <th>Brand</th>\n",
       "      <th>Mean</th>\n",
       "      <th>Delta U91-E10</th>\n",
       "      <th>Delta P95-E10</th>\n",
       "      <th>Delta P98-E10</th>\n",
       "    </tr>\n",
       "    <tr>\n",
       "      <th>Address</th>\n",
       "      <th></th>\n",
       "      <th></th>\n",
       "      <th></th>\n",
       "      <th></th>\n",
       "      <th></th>\n",
       "    </tr>\n",
       "  </thead>\n",
       "  <tbody>\n",
       "    <tr>\n",
       "      <th>281 Homer St, EARLWOOD NSW 2206</th>\n",
       "      <td>Metro Fuel</td>\n",
       "      <td>107.519914</td>\n",
       "      <td>3.462665</td>\n",
       "      <td>NaN</td>\n",
       "      <td>17.120878</td>\n",
       "    </tr>\n",
       "    <tr>\n",
       "      <th>150 Pacific Hwy, TUGGERAH NSW 2259</th>\n",
       "      <td>Metro Fuel</td>\n",
       "      <td>108.563290</td>\n",
       "      <td>2.000000</td>\n",
       "      <td>NaN</td>\n",
       "      <td>21.276072</td>\n",
       "    </tr>\n",
       "    <tr>\n",
       "      <th>101 Blaxcell St, GRANVILLE NSW 2142</th>\n",
       "      <td>Independent</td>\n",
       "      <td>108.878478</td>\n",
       "      <td>2.000000</td>\n",
       "      <td>13.0</td>\n",
       "      <td>NaN</td>\n",
       "    </tr>\n",
       "    <tr>\n",
       "      <th>348 Blaxcell Street, Granville NSW 2142</th>\n",
       "      <td>Speedway</td>\n",
       "      <td>108.940785</td>\n",
       "      <td>2.000000</td>\n",
       "      <td>NaN</td>\n",
       "      <td>20.354939</td>\n",
       "    </tr>\n",
       "    <tr>\n",
       "      <th>53 Sydney Rd, Goulburn NSW 2580</th>\n",
       "      <td>Independent</td>\n",
       "      <td>109.159449</td>\n",
       "      <td>NaN</td>\n",
       "      <td>NaN</td>\n",
       "      <td>NaN</td>\n",
       "    </tr>\n",
       "  </tbody>\n",
       "</table>\n",
       "</div>"
      ],
      "text/plain": [
       "                                               Brand        Mean  \\\n",
       "Address                                                            \n",
       "281 Homer St, EARLWOOD NSW 2206           Metro Fuel  107.519914   \n",
       "150 Pacific Hwy, TUGGERAH NSW 2259        Metro Fuel  108.563290   \n",
       "101 Blaxcell St, GRANVILLE NSW 2142      Independent  108.878478   \n",
       "348 Blaxcell Street, Granville NSW 2142     Speedway  108.940785   \n",
       "53 Sydney Rd, Goulburn NSW 2580          Independent  109.159449   \n",
       "\n",
       "                                         Delta U91-E10  Delta P95-E10  \\\n",
       "Address                                                                 \n",
       "281 Homer St, EARLWOOD NSW 2206               3.462665            NaN   \n",
       "150 Pacific Hwy, TUGGERAH NSW 2259            2.000000            NaN   \n",
       "101 Blaxcell St, GRANVILLE NSW 2142           2.000000           13.0   \n",
       "348 Blaxcell Street, Granville NSW 2142       2.000000            NaN   \n",
       "53 Sydney Rd, Goulburn NSW 2580                    NaN            NaN   \n",
       "\n",
       "                                         Delta P98-E10  \n",
       "Address                                                 \n",
       "281 Homer St, EARLWOOD NSW 2206              17.120878  \n",
       "150 Pacific Hwy, TUGGERAH NSW 2259           21.276072  \n",
       "101 Blaxcell St, GRANVILLE NSW 2142                NaN  \n",
       "348 Blaxcell Street, Granville NSW 2142      20.354939  \n",
       "53 Sydney Rd, Goulburn NSW 2580                    NaN  "
      ]
     },
     "execution_count": 33,
     "metadata": {},
     "output_type": "execute_result"
    }
   ],
   "source": [
    "deltas = fuel_stats['E10']\n",
    "deltas = deltas.loc[:, ['Brand', 'Mean']]\n",
    "\n",
    "for i, fuel in enumerate(fuel_type):\n",
    "    if (i > 0) and (i < len(fuel_type)):\n",
    "        deltas['Delta ' + fuel_type[i] + '-E10'] = fuel_stats[fuel_type[i]]['Mean'] - fuel_stats['E10']['Mean']\n",
    "        \n",
    "deltas.head()"
   ]
  },
  {
   "cell_type": "code",
   "execution_count": 34,
   "metadata": {},
   "outputs": [
    {
     "data": {
      "image/png": "[encoded data removed]",
      "text/plain": [
       "<matplotlib.figure.Figure at 0x10b915c50>"
      ]
     },
     "metadata": {},
     "output_type": "display_data"
    }
   ],
   "source": [
    "deltas = deltas.set_index(['Brand'])\n",
    "group_delta_by_brand = deltas.groupby(level=('Brand'))\n",
    "\n",
    "mean_delta_by_brand = group_delta_by_brand.mean()\n",
    "mean_delta_by_brand = mean_delta_by_brand.sort_values('Delta P98-E10')\n",
    "\n",
    "error_by_brand = group_delta_by_brand.std()\n",
    "error_by_brand = error_by_brand.reindex(mean_delta_by_brand.index)\n",
    "\n",
    "fig, ax = plt.subplots()\n",
    "\n",
    "mean_delta_by_brand[mean_delta_by_brand.columns.difference(['Mean'])].plot(kind='bar', alpha=0.75, rot=0, yerr = error_by_brand, ax=ax)\n",
    "ax.set_xticklabels(ax.xaxis.get_majorticklabels(), rotation=90)\n",
    "plt.legend(bbox_to_anchor=(1.05, 1), loc=2, borderaxespad=0.)\n",
    "plt.ylabel('Delta (c/L)')\n",
    "plt.show()"
   ]
  },
  {
   "cell_type": "markdown",
   "metadata": {},
   "source": [
    "# Analysis\n",
    "\n",
    "From the chart above, the error bars (one standard deviation) represent a narrow range relative to the actual delta. Therefore, it can be reasonable to assume that all petrol stations of a particular brand will have a constant price difference between their fuel grades.\n",
    "\n",
    "7-11 can be seen to have the lowest price difference between E10 and P95, and E10 and P98, with 12.99c/L and 17.94c/L respectively. Shell, as expected, has the largest price difference between E10 and P95, and E10 and P98, with 17.89c/L and 24.77c/L respectively. The price difference between U91 and E10 does not vary significantly between brands.\n",
    "\n",
    "Again, the Independent service stations have the largest standard deviation likely because this category combines a range of smaller brand service stations e.g. Puma Energy, Matilda, Liberty, Enhance etc. The delta charged between the different brands for the various fuel grades will vary.\n",
    "\n",
    "The delta for P95 is also not consistent with P98 pricing. For example, while BP has a greater E10-P98 delta compared to Caltex, their E10-P95 delta is about the same as Caltex's. This is even clearer with Metro, which is at the lower end of the spectrum for E10-P98 delta, but has the second highest E10-P95 delta."
   ]
  },
  {
   "cell_type": "markdown",
   "metadata": {
    "collapsed": true
   },
   "source": [
    "# Conclusion\n",
    "\n",
    "It has been demonstrated that for May Fuelcheck data, Speedway has the lowest overall prices for all fuel grades, and Shell has the highest. Furthermore, while Shell is reasonably competitive for E10, Shell charges the highest mark up for premium fuels, making it the most expensive petrol station to shop at."
   ]
  },
  {
   "cell_type": "markdown",
   "metadata": {},
   "source": [
    "# Future Work\n",
    "\n",
    "The current analysis does not factor in geographical location. Fuel prices could be affected by location (leasing costs, transportation costs, expected customers, wealth of residents etc).\n",
    "\n",
    "Code requires significant refactoring to make better use of the Pandas library. This is a first attempt to perform an analysis and a learning experience using Python, therefore there are many sub-optimal (or even poor) coding practices applied."
   ]
  }
 ],
 "metadata": {
  "kernelspec": {
   "display_name": "Python 3",
   "language": "python",
   "name": "python3"
  },
  "language_info": {
   "codemirror_mode": {
    "name": "ipython",
    "version": 3
   },
   "file_extension": ".py",
   "mimetype": "text/x-python",
   "name": "python",
   "nbconvert_exporter": "python",
   "pygments_lexer": "ipython3",
   "version": "3.6.0"
  }
 },
 "nbformat": 4,
 "nbformat_minor": 2
}
